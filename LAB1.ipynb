{
 "cells": [
  {
   "cell_type": "code",
   "execution_count": 25,
   "metadata": {},
   "outputs": [
    {
     "name": "stdout",
     "output_type": "stream",
     "text": [
      "what is ur name\n"
     ]
    }
   ],
   "source": [
    "name = input('what is ur name')"
   ]
  },
  {
   "cell_type": "code",
   "execution_count": 6,
   "metadata": {},
   "outputs": [
    {
     "data": {
      "text/plain": [
       "[9, 8, 7, 6, 5, 4, 3, 2, 1]"
      ]
     },
     "execution_count": 6,
     "metadata": {},
     "output_type": "execute_result"
    }
   ],
   "source": [
    "li = [1,2,3,4,5,6,7,8,9]\n",
    "li[::-1]"
   ]
  },
  {
   "cell_type": "code",
   "execution_count": 7,
   "metadata": {},
   "outputs": [
    {
     "data": {
      "text/plain": [
       "[8, 7, 6, 5, 4, 3, 2, 1]"
      ]
     },
     "execution_count": 7,
     "metadata": {},
     "output_type": "execute_result"
    }
   ],
   "source": [
    "uzair = [1,2,3,4,5,6,7,8]\n",
    "uzair[::-1]"
   ]
  },
  {
   "cell_type": "code",
   "execution_count": 24,
   "metadata": {},
   "outputs": [
    {
     "name": "stdout",
     "output_type": "stream",
     "text": [
      "Intersection=  {3}\n",
      "Union=  {1, 2, 3, 4, 5, 6}\n",
      "Difference=  {4, 5, 6}\n",
      "ADifference=  {1, 2, 4, 5, 6}\n"
     ]
    }
   ],
   "source": [
    "seta={3,4,5,6}\n",
    "setb={1,3,2}\n",
    "print(\"Intersection= \",seta & setb)\n",
    "print(\"Union= \",seta | setb)\n",
    "print(\"Difference= \",seta - setb)\n",
    "print(\"ADifference= \",seta ^ setb)"
   ]
  },
  {
   "cell_type": "code",
   "execution_count": 37,
   "metadata": {},
   "outputs": [
    {
     "name": "stdout",
     "output_type": "stream",
     "text": [
      "hello\n",
      "We can clean resource here\n"
     ]
    }
   ],
   "source": [
    "try:\n",
    "    #use raise to raise an error\n",
    "    raise IndexError(\"This is an index error\")\n",
    "except IndexError as e:\n",
    "    print(\"hello\")\n",
    "    pass\n",
    "except (TypeError, NameError):\n",
    "    pass\n",
    "else:\n",
    "    print(\"All Good!\")\n",
    "finally:\n",
    "    print(\"We can clean resource here\")"
   ]
  },
  {
   "cell_type": "code",
   "execution_count": 38,
   "metadata": {},
   "outputs": [
    {
     "name": "stdout",
     "output_type": "stream",
     "text": [
      "<class 'Exception'>\n",
      "('span', 'eggs')\n",
      "('span', 'eggs')\n",
      "x = span\n",
      "y = eggs\n"
     ]
    }
   ],
   "source": [
    "try:\n",
    "    raise Exception('span', 'eggs')\n",
    "except Exception as inst:\n",
    "    print(type(inst))\n",
    "    print(inst.args)\n",
    "    print(inst)\n",
    "    \n",
    "    x, y = inst.args\n",
    "    print('x =', x)\n",
    "    print('y =', y)"
   ]
  },
  {
   "cell_type": "code",
   "execution_count": 40,
   "metadata": {},
   "outputs": [],
   "source": [
    "#specifying a dictionry\n",
    "\n",
    "contents = {\"name\":\"uzair\",\n",
    "            \"age\":21,\n",
    "            \"Mental_Status\":\"not stable\"\n",
    "           }\n",
    "with open(\"myfile1.txt\", \"wt\") as file:\n",
    "    file.write(str(contents))"
   ]
  },
  {
   "cell_type": "code",
   "execution_count": 43,
   "metadata": {},
   "outputs": [
    {
     "name": "stdout",
     "output_type": "stream",
     "text": [
      "{'name': 'uzair', 'age': 21, 'Mental_Status': 'notstable'}\n"
     ]
    }
   ],
   "source": [
    "with open(\"myfile1.txt\") as f:\n",
    "    for line in f:\n",
    "        print(line)"
   ]
  },
  {
   "cell_type": "code",
   "execution_count": null,
   "metadata": {},
   "outputs": [],
   "source": []
  }
 ],
 "metadata": {
  "kernelspec": {
   "display_name": "Python 3",
   "language": "python",
   "name": "python3"
  },
  "language_info": {
   "codemirror_mode": {
    "name": "ipython",
    "version": 3
   },
   "file_extension": ".py",
   "mimetype": "text/x-python",
   "name": "python",
   "nbconvert_exporter": "python",
   "pygments_lexer": "ipython3",
   "version": "3.7.3"
  }
 },
 "nbformat": 4,
 "nbformat_minor": 2
}
